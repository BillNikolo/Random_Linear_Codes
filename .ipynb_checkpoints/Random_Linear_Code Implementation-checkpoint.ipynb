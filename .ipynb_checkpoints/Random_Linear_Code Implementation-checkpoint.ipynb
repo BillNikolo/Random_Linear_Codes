{
 "cells": [
  {
   "cell_type": "markdown",
   "metadata": {},
   "source": [
    "- Equation for the syndrome:\n",
    "    H*r^{T}= H*(c + e)^{T}= H*c^{T} + H*e^{T} = H*e^{T}\n",
    "\n",
    "- If the error vector has hw(e)<=1 then it's just a scalar multiple of column of the H. (in the binary matrix) Find the syndrome, notice which line represent of H and change that same position's digit in the transmited codeword."
   ]
  },
  {
   "cell_type": "code",
   "execution_count": null,
   "metadata": {},
   "outputs": [],
   "source": [
    "import random\n",
    "import time\n",
    "import itertools\n",
    "from itertools import combinations\n",
    "\n",
    "# Notation for general codes is [n, k, d], where n is the length of the vector/word coming from the\n",
    "# subspace and k is the dimension.\n",
    "\n",
    "class Linear_Code_Implementation:\n",
    "    \n",
    "    def __init__(self, n, k, GF_prime):\n",
    "        self.n = n\n",
    "        self.k = k\n",
    "        self.prime = GF_prime\n",
    "        self.G = random_matrix(GF(self.prime), k, n)\n",
    "        code = LinearCode(self.G)\n",
    "        self.G = code.generator_matrix()\n",
    "#         self.H = code.parity_check_matrix()\n",
    "        self.H = self.G.right_kernel().matrix()\n",
    "        self.VS = VectorSpace(GF(self.prime), self.k)\n",
    "        self.message = self.VS([random.randint(0, self.prime - 1) for t in range(self.k)])\n",
    "        self.codeword = self.message * self.G\n",
    "        self.syndrome = (self.H * self.codeword.column()).column(0)\n",
    "        print(\"Original Measage: \", self.message)\n",
    "        print(\"Codeword: \", self.codeword)\n",
    "#         print(\"Syndrome: \", self.syndrome)\n",
    "\n",
    "    # The below is a simple method for decoding a codeword with maximum of 1 error.\n",
    "    def simple_decode_method(self, codeword_prime):\n",
    "        new_syndrome = (self.H * codeword_prime.column()).column(0)\n",
    "        print(new_syndrome)\n",
    "        print(self.H)\n",
    "        list_pos = []\n",
    "        for _ in range(0, len(new_syndrome)):\n",
    "            if new_syndrome[_] > 0:\n",
    "                list_pos.append(_)\n",
    "        if len(list_pos) == 0:\n",
    "            print(\"Codeword: \", codeword_prime)\n",
    "            print(\"Syndrome: \", new_syndrome)\n",
    "            print(\"The received codeword is correct\")\n",
    "        else:\n",
    "            possible_codewords_list = []\n",
    "            flag = False\n",
    "            for _ in range(0, len(codeword_prime)):\n",
    "                try: \n",
    "                    scalar = new_syndrome/self.H.column(_)\n",
    "#                     if isinstance(new_syndrome/self.H.column(_),int)\n",
    "                except:\n",
    "                    continue\n",
    "                else:\n",
    "                    flag = True\n",
    "                    temp = codeword_prime\n",
    "                    temp[_] -= (scalar) \n",
    "                    possible_codewords_list.append(temp)\n",
    "            if flag == True:\n",
    "                print(\"The possible words are:\" ,possible_codewords_list )\n",
    "            else:\n",
    "                print(\"Failure to decode the codeword\")\n",
    "               \n",
    "        \n",
    "# This is a method to introduce n_errors number of errors in a codework, at random \n",
    "# position and minding the GF that the code is based on. \n",
    "def cword_error_intro(codeword, n_errors, GF):\n",
    "    temp_list = []\n",
    "    pos_of_error = random.randint(0, len(codeword))\n",
    "    for _ in range(n_errors):\n",
    "        while pos_of_error in temp_list:\n",
    "            pos_of_error = random.randint(0, len(codeword) - 1)\n",
    "        else:\n",
    "            temp_list.append(pos_of_error)\n",
    "            error = random.randint(1, GF - 1)\n",
    "            codeword[pos_of_error] += error\n",
    "    temp_list = [_ + 1 for _ in temp_list]\n",
    "    temp_list.sort()\n",
    "    return codeword, temp_list\n",
    "\n",
    "    \n",
    "# The below function decodes the codeword using the combinatorial approach. For now it works only \n",
    "# on GF(2) and corrects 4 errors.\n",
    "# Could be implemented so that searches possible codewords up to a certain number of errors.\n",
    "# Like starting from 1 to <=4 errors, depending on the code itself.\n",
    "def combinatorial_decoding(code, n_errors, wrong_codeword): \n",
    "#  extract columns before hand row.echelon.form()\n",
    "    start = time.time()\n",
    "    syndrome = (code.H * wrong_codeword.column()).column(0)\n",
    "    list_syndrome = code.H.columns()\n",
    "    combinations = list(itertools.combinations(list(range(0,code.n)), n_errors))\n",
    "    possible_code_list = []\n",
    "    print(\"Syndrome: \", syndrome)\n",
    "    for pos_list in combinations:\n",
    "        temp_wrong_word = wrong_codeword\n",
    "        temp = list_syndrome[pos_list[0]]\n",
    "        for i in range(1, len(pos_list)):\n",
    "            temp += list_syndrome[pos_list[i]]\n",
    "        if temp == syndrome:\n",
    "            for _ in pos_list:\n",
    "                temp_wrong_word[_] += 1\n",
    "            possible_code_list.append(temp_wrong_word)\n",
    "    end = time.time()\n",
    "    print(\"Elapsed time:\", end-start)\n",
    "    return possible_code_list\n",
    "\n",
    "\n",
    "# The following function uses a different approach to reach for the possible correct codeword.\n",
    "# The function works only for GF(2) at the moment\n",
    "def birthday_decoding(code, n_errors, wrong_word):\n",
    "    start = time.time()\n",
    "    syndrome = (code.H * wrong_codeword.column()).column(0)\n",
    "    combinations_t1 = []\n",
    "    combinations_t2 = []\n",
    "    possible_code_list = []\n",
    "    t1 = ceil(n_errors / 2)\n",
    "    t2 = n_errors - t1\n",
    "    for x in itertools.combinations(list(range(0,code.n)), t1):\n",
    "        combinations_t1.append(x)\n",
    "    for x in itertools.combinations(list(range(0,code.n)), t2):\n",
    "        combinations_t2.append(x)\n",
    "    dict_t1 = {}\n",
    "    dict_t2 = {}\n",
    "    for pos_list in combinations_t1:\n",
    "        temp = code.H.column(pos_list[0])\n",
    "        for i in range(1, len(pos_list)):\n",
    "            temp += code.H.column(pos_list[i])\n",
    "        dict_t1[tuple(temp)] = pos_list\n",
    "    for pos_list in combinations_t2:\n",
    "        temp = code.H.column(pos_list[0])\n",
    "        for i in range(1, len(pos_list)):\n",
    "            temp += code.H.column(pos_list[i])\n",
    "        dict_t2[tuple(syndrome - temp)] = pos_list\n",
    "#     print(dict_t2)\n",
    "    for key in dict_t1:\n",
    "        temp_wrong_word = wrong_codeword\n",
    "        if key in dict_t2:\n",
    "            error_pos = dict_t1[key] + dict_t2[key]\n",
    "            for _ in error_pos:\n",
    "                temp_wrong_word[_] += 1\n",
    "            if temp_wrong_word not in possible_code_list:\n",
    "                possible_code_list.append(temp_wrong_word)\n",
    "    end = time.time()\n",
    "    print(\"Elapsed time:\", end-start)\n",
    "    return possible_code_list\n",
    "\n",
    "\n",
    "# Below is the Prange decoding algorithm \n",
    "def prange_decoding(code, num_of_errors, wrong_word):\n",
    "    start = time.time()\n",
    "    decoded_codeword = []\n",
    "    syndrome = (code.H * wrong_codeword.column()).column(0)\n",
    "    H_list = code.H.columns()\n",
    "    original_position = list(enumerate(H_list))\n",
    "    flag = True\n",
    "    while flag:\n",
    "        sub_original_pos, H_list_suffled = zip(*random.sample(list(zip(original_position, H_list)), len(H_list)))\n",
    "        Q = matrix( GF(code.prime),code.n - code.k, code.n - code.k, H_list_suffled[0:(code.n - code.k)]).transpose()\n",
    "        if Q.is_invertible() == False:\n",
    "            continue\n",
    "        else:\n",
    "            syndrome_prime = Q.inverse() * syndrome\n",
    "            print(\"Syndrome prime:\", syndrome_prime)\n",
    "            if hamming_Weight(syndrome_prime) <= num_of_errors:\n",
    "                pos = find_index(syndrome_prime, 1)\n",
    "                for _ in pos:\n",
    "                    error_pos = H_list_suffled[_][0]\n",
    "                    wrong_codeword[error_pos] += 1 \n",
    "                decoded_codeword.append(wrong_codeword)\n",
    "                flag = False\n",
    "    end = time.time()\n",
    "    print(\"Elapsed time:\", end-start)\n",
    "    return decoded_codeword\n",
    "\n",
    "\n",
    "# Helping functions\n",
    "def check_correctness(codeword, decoded_word):\n",
    "    if codeword in decoded_word:\n",
    "        return decoded_word, True, decoded_word.index(codeword)\n",
    "    else:\n",
    "        return False\n",
    "    \n",
    "def hamming_Weight(syndrome):\n",
    "    cnt = 0\n",
    "    for _ in syndrome:\n",
    "        if _ == 1:\n",
    "            cnt += 1\n",
    "    return cnt\n",
    "\n",
    "def find_index(word, number):\n",
    "    temp_list = []\n",
    "    for _ in range(len(word)):\n",
    "        if word[_] == number:\n",
    "            temp_list.append(_)\n",
    "    return temp_list"
   ]
  },
  {
   "cell_type": "markdown",
   "metadata": {},
   "source": [
    "//////////////////////////////////////////////////\n",
    "Testing the def simple_decode_method for 1 error."
   ]
  },
  {
   "cell_type": "code",
   "execution_count": null,
   "metadata": {},
   "outputs": [],
   "source": [
    "eco = Linear_Code_Implementation(8, 4, 17)"
   ]
  },
  {
   "cell_type": "code",
   "execution_count": null,
   "metadata": {},
   "outputs": [],
   "source": [
    "VS = VectorSpace(GF(17), 8)\n",
    "codeword_prime = VS([4, 9, 10, 10, 0, 2, 12, 15])\n",
    "eco.simple_decode_method(codeword_prime) "
   ]
  },
  {
   "cell_type": "markdown",
   "metadata": {},
   "source": [
    "///////////////////////////////////////////////////\n",
    "Testing the def combinatorial_decoding with 4 errors introduced in the original codeword"
   ]
  },
  {
   "cell_type": "markdown",
   "metadata": {},
   "source": [
    "## Initiating the instance "
   ]
  },
  {
   "cell_type": "code",
   "execution_count": null,
   "metadata": {},
   "outputs": [],
   "source": [
    "code = Linear_Code_Implementation(32, 8, 2)\n",
    "wrong_codeword, pos_of_error = cword_error_intro(code.codeword, 4, code.prime)\n",
    "print(\"Altered codeword:\", wrong_codeword)\n",
    "print(\"Possitions of error in codeword:\", pos_of_error)"
   ]
  },
  {
   "cell_type": "code",
   "execution_count": null,
   "metadata": {},
   "outputs": [],
   "source": [
    "cdm = combinatorial_decoding(code, 4, wrong_codeword)\n",
    "print(check_correctness(code.codeword, cdm))"
   ]
  },
  {
   "cell_type": "markdown",
   "metadata": {},
   "source": [
    "/////////////////////////////////////////////////// Testing the def birthday_decoding() with 4 errors introduced in the original codeword"
   ]
  },
  {
   "cell_type": "code",
   "execution_count": null,
   "metadata": {},
   "outputs": [],
   "source": [
    "bdm = birthday_decoding(code, 4, wrong_codeword)\n",
    "print(check_correctness(code.codeword, bdm))\n",
    "print(code.codeword)"
   ]
  },
  {
   "cell_type": "markdown",
   "metadata": {},
   "source": [
    "/////////////////////////////////////////////////// Testing the def prange_decoding() with 4 errors introduced in the original codeword"
   ]
  },
  {
   "cell_type": "code",
   "execution_count": null,
   "metadata": {},
   "outputs": [],
   "source": [
    "pdm = prange_decoding(code, 4, wrong_codeword)\n",
    "print(check_correctness(code.codeword, pdm))\n",
    "print(code.codeword)"
   ]
  },
  {
   "cell_type": "markdown",
   "metadata": {},
   "source": [
    "///////////////////////////////////////////////////////////////////////////////////////////////////////////////////////////////////////////////////////////////////////////////////////////////////////////////////////////////////////////////////////////////////////////////////////////////////////////////////////////////////////////////////////////////////////////////////////////////"
   ]
  },
  {
   "cell_type": "code",
   "execution_count": null,
   "metadata": {},
   "outputs": [],
   "source": [
    "# All the possible messeges for the Hamming code [7,4,3] are 2^4 = 16\n",
    "# **Ask if there is another way to generate the vectorspace**\n",
    "\n",
    "VS = VectorSpace(GF(2), 4)\n",
    "Set= list(VS)\n",
    "# Set = VS.subspace([VS([0,0,0,0]), VS([0,0,0,1]), VS([0,0,1,0]), VS([0,1,0,0]), VS([1,0,0,0]), VS([0,0,1,1]), VS([0,1,1,0]), VS([1,1,0,0]),  VS([0,1,1,1]), VS([1,1,1,0]), VS([1,0,1,1]), VS([1,1,0,1]), VS([1,1,1,1]), VS([0,1,0,1]), VS([1,0,0,1]), VS([1,0,1,0])])\n",
    "# Set.list()\n",
    "G = codes.HammingCode(GF(2), 3)\n",
    "Codewords = [vector*G for vector in Set]\n",
    "Codewords   "
   ]
  },
  {
   "cell_type": "code",
   "execution_count": null,
   "metadata": {},
   "outputs": [],
   "source": [
    "a = vector((1,0,0))\n",
    "b = vector((0,-1,0))\n",
    "if a != b:\n",
    "    print(\"True\")"
   ]
  },
  {
   "cell_type": "markdown",
   "metadata": {},
   "source": [
    "-Below is a method to calculate the generator matrix and the parity one"
   ]
  },
  {
   "cell_type": "code",
   "execution_count": null,
   "metadata": {
    "scrolled": true
   },
   "outputs": [],
   "source": [
    "G = random_matrix(GF(2), 4, 7)\n",
    "H = G.right_kernel().matrix()\n",
    "print(G,\"\\n\",\"2\", H)"
   ]
  },
  {
   "cell_type": "code",
   "execution_count": null,
   "metadata": {},
   "outputs": [],
   "source": [
    "H = H.transpose();\n",
    "G = H.left_kernel().matrix(); G"
   ]
  },
  {
   "cell_type": "markdown",
   "metadata": {},
   "source": [
    "- Below there are the first look and tries in sage math, aiming to get familiar, learn about simple implementations of matrices and vectors and generator matrices, parity check matrices\n",
    "\n",
    "///Notes for me GH^{T} = 0 can be computed by the .kernel().matrix(), always minding the transpose nature of the matrices///"
   ]
  },
  {
   "cell_type": "code",
   "execution_count": null,
   "metadata": {},
   "outputs": [],
   "source": [
    "# mx = MatrixSpace(GF(2), 2,6)\n",
    "# example = mx.matrix([1,2,3,4,5,6,7,8,9,0,11,15])\n",
    "# mx, example, example.base_ring()"
   ]
  },
  {
   "cell_type": "code",
   "execution_count": null,
   "metadata": {},
   "outputs": [],
   "source": [
    "# V = VectorSpace(GF(2), 6)\n",
    "# s = V.subspace([V([2,5,6,1,4,6])])\n",
    "# # s = V.subspace(rows)\n",
    "# A = random_matrix(GF(2), 6)\n",
    "# E = identity_matrix(6,6)\n",
    "# A ,E, s"
   ]
  },
  {
   "cell_type": "code",
   "execution_count": null,
   "metadata": {},
   "outputs": [],
   "source": [
    "# ech_form = rm.echelon_form(); ech_form\n",
    "# newrm = ech_form[[0,1,2,3], [4,5,6,7,8,9]]; newrm\n",
    "# trnsp = newrm.transpose(); trnsp\n",
    "# id6 = identity_matrix(6,6)\n",
    "# H = trnsp.augment(id6)\n",
    "# H = H.echelon_form(); H"
   ]
  },
  {
   "cell_type": "code",
   "execution_count": null,
   "metadata": {
    "scrolled": false
   },
   "outputs": [],
   "source": [
    "# G.redundancy_matrix()\n",
    "# G.parity_check_matrix()"
   ]
  },
  {
   "cell_type": "code",
   "execution_count": null,
   "metadata": {},
   "outputs": [],
   "source": [
    "# Below is some old code and tries that are important for the above implementation\n",
    "\n",
    "# def linear_code_impl(n , k, GF_num ):\n",
    "#     G = random_matrix(GF(GF_num), k, n)\n",
    "#     VS = VectorSpace(GF(GF_num), k)\n",
    "#     random_message = VS([random.randint(0, 1) for t in range(k)])\n",
    "#     codeword = random_message * G\n",
    "#     H = G.right_kernel().matrix()\n",
    "#     print(\"Correct Codeword:\",codeword,\"\\n\",\"Parity matrix:\",\"\\n\", H)\n",
    "#     error_pos = random.randint(0, n - 1)\n",
    "#     codeword[error_pos] += 1      \n",
    "#     print(\"Codeword with Error:\", codeword)\n",
    "#     syndrome = (H * codeword.column()).column(0)\n",
    "#     if 1 not in syndrome:\n",
    "#         print(\"Syndrome:\", syndrome)\n",
    "#     else:\n",
    "#         possition = - 1\n",
    "#         for i in range(n):\n",
    "#             if syndrome == H.column(i):\n",
    "#                 possition = i\n",
    "#         if codeword[possition] == 0:\n",
    "#             codeword[possition] = 1\n",
    "#         else:\n",
    "#            codeword[possition] = 0 \n",
    "#         print(\"Error:\", (error_pos + 1),\"\\n\", \"Syndrome:\", syndrome, \"Corrected Codeword:\", codeword)\n",
    "\n",
    "# linear_code_impl(12, 8, 17)"
   ]
  }
 ],
 "metadata": {
  "kernelspec": {
   "display_name": "SageMath 9.3",
   "language": "sage",
   "name": "sagemath"
  },
  "language_info": {
   "codemirror_mode": {
    "name": "ipython",
    "version": 3
   },
   "file_extension": ".py",
   "mimetype": "text/x-python",
   "name": "python",
   "nbconvert_exporter": "python",
   "pygments_lexer": "ipython3",
   "version": "3.7.10"
  }
 },
 "nbformat": 4,
 "nbformat_minor": 4
}

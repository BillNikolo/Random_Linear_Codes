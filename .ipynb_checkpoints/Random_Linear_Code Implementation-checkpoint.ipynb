{
 "cells": [
  {
   "cell_type": "markdown",
   "metadata": {},
   "source": [
    "- Equation for the syndrome:\n",
    "    H*r^{T}= H*(c + e)^{T}= H*c^{T} + H*e^{T} = H*e^{T}\n",
    "\n",
    "- If the error vector has hw(e)<=1 then it's just a scalar multiple of column of the H. (in the binary matrix) Find the syndrome, notice which line represent of H and change that same position's digit in the transmited codeword."
   ]
  },
  {
   "cell_type": "code",
   "execution_count": 16,
   "metadata": {},
   "outputs": [
    {
     "name": "stdout",
     "output_type": "stream",
     "text": [
      "Correct Codeword: (0, 0, 1, 1, 0, 1, 0, 0, 1, 0, 0, 0) \n",
      " Parity matrix: \n",
      " [1 0 0 0 0 0 0 0 0 1 1 0]\n",
      "[0 0 1 0 0 1 0 0 0 1 0 1]\n",
      "[0 0 0 1 0 1 1 0 0 1 0 1]\n",
      "[0 0 0 0 1 0 1 1 0 1 1 0]\n",
      "Codeword with Error: (0, 0, 0, 1, 0, 1, 0, 0, 1, 0, 0, 0)\n",
      "Error: e \n",
      " Syndrome: (0, 1, 0, 0) Corrected Codeword: (0, 0, 1, 1, 0, 1, 0, 0, 1, 0, 0, 0)\n"
     ]
    }
   ],
   "source": [
    "import random\n",
    "\n",
    "def linear_code_impl(k , n ,):\n",
    "    G = random_matrix(GF(2), n, k)\n",
    "    VS = VectorSpace(GF(2), n)\n",
    "    random_message = VS([random.randint(0, 1) for t in range(n)])\n",
    "    codeword = random_message * G\n",
    "    H = G.right_kernel().matrix()\n",
    "    print(\"Correct Codeword:\",codeword,\"\\n\",\"Parity matrix:\",\"\\n\", H)\n",
    "    error_pos = random.randint(0, 9)\n",
    "    codeword[error_pos] += 1      \n",
    "    print(\"Codeword with Error:\", codeword)\n",
    "    syndrome = (H * codeword.column()).column(0)\n",
    "    if 1 not in syndrome:\n",
    "        print(\"Syndrome:\", syndrome)\n",
    "    else:\n",
    "        possition = -1\n",
    "        for i in range(k):\n",
    "            if syndrome == H.column(i):\n",
    "                possition = i\n",
    "        if codeword[possition] == 0:\n",
    "            codeword[possition] = 1\n",
    "        else:\n",
    "           codeword[possition] = 0 \n",
    "        print(\"Error:\", e,\"\\n\", \"Syndrome:\", syndrome, \"Corrected Codeword:\", codeword)\n",
    "\n",
    "linear_code_impl(12, 8)"
   ]
  },
  {
   "cell_type": "code",
   "execution_count": 15,
   "metadata": {},
   "outputs": [
    {
     "ename": "TypeError",
     "evalue": "For implementing multiplication, provide the method '_mul_' for (0, 0, 0, 0) resp. [7, 4] Hamming Code over GF(2)",
     "output_type": "error",
     "traceback": [
      "\u001b[0;31m---------------------------------------------------------------------------\u001b[0m",
      "\u001b[0;31mTypeError\u001b[0m                                 Traceback (most recent call last)",
      "\u001b[0;32m<ipython-input-15-21158caf87d3>\u001b[0m in \u001b[0;36m<module>\u001b[0;34m\u001b[0m\n\u001b[1;32m      7\u001b[0m \u001b[0;31m# Set.list()\u001b[0m\u001b[0;34m\u001b[0m\u001b[0;34m\u001b[0m\u001b[0;34m\u001b[0m\u001b[0m\n\u001b[1;32m      8\u001b[0m \u001b[0mG\u001b[0m \u001b[0;34m=\u001b[0m \u001b[0mcodes\u001b[0m\u001b[0;34m.\u001b[0m\u001b[0mHammingCode\u001b[0m\u001b[0;34m(\u001b[0m\u001b[0mGF\u001b[0m\u001b[0;34m(\u001b[0m\u001b[0mInteger\u001b[0m\u001b[0;34m(\u001b[0m\u001b[0;36m2\u001b[0m\u001b[0;34m)\u001b[0m\u001b[0;34m)\u001b[0m\u001b[0;34m,\u001b[0m \u001b[0mInteger\u001b[0m\u001b[0;34m(\u001b[0m\u001b[0;36m3\u001b[0m\u001b[0;34m)\u001b[0m\u001b[0;34m)\u001b[0m\u001b[0;34m\u001b[0m\u001b[0;34m\u001b[0m\u001b[0m\n\u001b[0;32m----> 9\u001b[0;31m \u001b[0mCodewords\u001b[0m \u001b[0;34m=\u001b[0m \u001b[0;34m[\u001b[0m\u001b[0mvector\u001b[0m\u001b[0;34m*\u001b[0m\u001b[0mG\u001b[0m \u001b[0;32mfor\u001b[0m \u001b[0mvector\u001b[0m \u001b[0;32min\u001b[0m \u001b[0mSet\u001b[0m\u001b[0;34m]\u001b[0m\u001b[0;34m\u001b[0m\u001b[0;34m\u001b[0m\u001b[0m\n\u001b[0m\u001b[1;32m     10\u001b[0m \u001b[0mCodewords\u001b[0m\u001b[0;34m\u001b[0m\u001b[0;34m\u001b[0m\u001b[0m\n",
      "\u001b[0;32m<ipython-input-15-21158caf87d3>\u001b[0m in \u001b[0;36m<listcomp>\u001b[0;34m(.0)\u001b[0m\n\u001b[1;32m      7\u001b[0m \u001b[0;31m# Set.list()\u001b[0m\u001b[0;34m\u001b[0m\u001b[0;34m\u001b[0m\u001b[0;34m\u001b[0m\u001b[0m\n\u001b[1;32m      8\u001b[0m \u001b[0mG\u001b[0m \u001b[0;34m=\u001b[0m \u001b[0mcodes\u001b[0m\u001b[0;34m.\u001b[0m\u001b[0mHammingCode\u001b[0m\u001b[0;34m(\u001b[0m\u001b[0mGF\u001b[0m\u001b[0;34m(\u001b[0m\u001b[0mInteger\u001b[0m\u001b[0;34m(\u001b[0m\u001b[0;36m2\u001b[0m\u001b[0;34m)\u001b[0m\u001b[0;34m)\u001b[0m\u001b[0;34m,\u001b[0m \u001b[0mInteger\u001b[0m\u001b[0;34m(\u001b[0m\u001b[0;36m3\u001b[0m\u001b[0;34m)\u001b[0m\u001b[0;34m)\u001b[0m\u001b[0;34m\u001b[0m\u001b[0;34m\u001b[0m\u001b[0m\n\u001b[0;32m----> 9\u001b[0;31m \u001b[0mCodewords\u001b[0m \u001b[0;34m=\u001b[0m \u001b[0;34m[\u001b[0m\u001b[0mvector\u001b[0m\u001b[0;34m*\u001b[0m\u001b[0mG\u001b[0m \u001b[0;32mfor\u001b[0m \u001b[0mvector\u001b[0m \u001b[0;32min\u001b[0m \u001b[0mSet\u001b[0m\u001b[0;34m]\u001b[0m\u001b[0;34m\u001b[0m\u001b[0;34m\u001b[0m\u001b[0m\n\u001b[0m\u001b[1;32m     10\u001b[0m \u001b[0mCodewords\u001b[0m\u001b[0;34m\u001b[0m\u001b[0;34m\u001b[0m\u001b[0m\n",
      "\u001b[0;32m/opt/sagemath-9.3/local/lib/python3.7/site-packages/sage/structure/element.pyx\u001b[0m in \u001b[0;36msage.structure.element.Vector.__mul__ (build/cythonized/sage/structure/element.c:22424)\u001b[0;34m()\u001b[0m\n\u001b[1;32m   3471\u001b[0m         \u001b[0;32mif\u001b[0m \u001b[0mhave_same_parent\u001b[0m\u001b[0;34m(\u001b[0m\u001b[0mleft\u001b[0m\u001b[0;34m,\u001b[0m \u001b[0mright\u001b[0m\u001b[0;34m)\u001b[0m\u001b[0;34m:\u001b[0m\u001b[0;34m\u001b[0m\u001b[0;34m\u001b[0m\u001b[0m\n\u001b[1;32m   3472\u001b[0m             \u001b[0;32mreturn\u001b[0m \u001b[0;34m(\u001b[0m\u001b[0;34m<\u001b[0m\u001b[0mVector\u001b[0m\u001b[0;34m>\u001b[0m\u001b[0mleft\u001b[0m\u001b[0;34m)\u001b[0m\u001b[0;34m.\u001b[0m\u001b[0m_dot_product_\u001b[0m\u001b[0;34m(\u001b[0m\u001b[0;34m<\u001b[0m\u001b[0mVector\u001b[0m\u001b[0;34m>\u001b[0m\u001b[0mright\u001b[0m\u001b[0;34m)\u001b[0m\u001b[0;34m\u001b[0m\u001b[0;34m\u001b[0m\u001b[0m\n\u001b[0;32m-> 3473\u001b[0;31m         \u001b[0;32mreturn\u001b[0m \u001b[0mcoercion_model\u001b[0m\u001b[0;34m.\u001b[0m\u001b[0mbin_op\u001b[0m\u001b[0;34m(\u001b[0m\u001b[0mleft\u001b[0m\u001b[0;34m,\u001b[0m \u001b[0mright\u001b[0m\u001b[0;34m,\u001b[0m \u001b[0mmul\u001b[0m\u001b[0;34m)\u001b[0m\u001b[0;34m\u001b[0m\u001b[0;34m\u001b[0m\u001b[0m\n\u001b[0m\u001b[1;32m   3474\u001b[0m \u001b[0;34m\u001b[0m\u001b[0m\n\u001b[1;32m   3475\u001b[0m     \u001b[0mcpdef\u001b[0m \u001b[0m_dot_product_\u001b[0m\u001b[0;34m(\u001b[0m\u001b[0mVector\u001b[0m \u001b[0mleft\u001b[0m\u001b[0;34m,\u001b[0m \u001b[0mVector\u001b[0m \u001b[0mright\u001b[0m\u001b[0;34m)\u001b[0m\u001b[0;34m:\u001b[0m\u001b[0;34m\u001b[0m\u001b[0;34m\u001b[0m\u001b[0m\n",
      "\u001b[0;32m/opt/sagemath-9.3/local/lib/python3.7/site-packages/sage/structure/coerce.pyx\u001b[0m in \u001b[0;36msage.structure.coerce.CoercionModel.bin_op (build/cythonized/sage/structure/coerce.c:11632)\u001b[0;34m()\u001b[0m\n\u001b[1;32m   1240\u001b[0m             \u001b[0mmul_method\u001b[0m \u001b[0;34m=\u001b[0m \u001b[0mgetattr\u001b[0m\u001b[0;34m(\u001b[0m\u001b[0my\u001b[0m\u001b[0;34m,\u001b[0m \u001b[0;34m'__r%s__'\u001b[0m\u001b[0;34m%\u001b[0m\u001b[0mop_name\u001b[0m\u001b[0;34m,\u001b[0m \u001b[0;32mNone\u001b[0m\u001b[0;34m)\u001b[0m\u001b[0;34m\u001b[0m\u001b[0;34m\u001b[0m\u001b[0m\n\u001b[1;32m   1241\u001b[0m             \u001b[0;32mif\u001b[0m \u001b[0mmul_method\u001b[0m \u001b[0;32mis\u001b[0m \u001b[0;32mnot\u001b[0m \u001b[0;32mNone\u001b[0m\u001b[0;34m:\u001b[0m\u001b[0;34m\u001b[0m\u001b[0;34m\u001b[0m\u001b[0m\n\u001b[0;32m-> 1242\u001b[0;31m                 \u001b[0mres\u001b[0m \u001b[0;34m=\u001b[0m \u001b[0mmul_method\u001b[0m\u001b[0;34m(\u001b[0m\u001b[0mx\u001b[0m\u001b[0;34m)\u001b[0m\u001b[0;34m\u001b[0m\u001b[0;34m\u001b[0m\u001b[0m\n\u001b[0m\u001b[1;32m   1243\u001b[0m                 \u001b[0;32mif\u001b[0m \u001b[0mres\u001b[0m \u001b[0;32mis\u001b[0m \u001b[0;32mnot\u001b[0m \u001b[0;32mNone\u001b[0m \u001b[0;32mand\u001b[0m \u001b[0mres\u001b[0m \u001b[0;32mis\u001b[0m \u001b[0;32mnot\u001b[0m \u001b[0mNotImplemented\u001b[0m\u001b[0;34m:\u001b[0m\u001b[0;34m\u001b[0m\u001b[0;34m\u001b[0m\u001b[0m\n\u001b[1;32m   1244\u001b[0m                     \u001b[0;32mreturn\u001b[0m \u001b[0mres\u001b[0m\u001b[0;34m\u001b[0m\u001b[0;34m\u001b[0m\u001b[0m\n",
      "\u001b[0;32m/opt/sagemath-9.3/local/lib/python3.7/site-packages/sage/structure/parent.pyx\u001b[0m in \u001b[0;36msage.structure.parent.Parent.__mul__ (build/cythonized/sage/structure/parent.c:9769)\u001b[0;34m()\u001b[0m\n\u001b[1;32m    988\u001b[0m                 \u001b[0;32mpass\u001b[0m\u001b[0;34m\u001b[0m\u001b[0;34m\u001b[0m\u001b[0m\n\u001b[1;32m    989\u001b[0m         \u001b[0;32mif\u001b[0m \u001b[0m_mul_\u001b[0m \u001b[0;32mis\u001b[0m \u001b[0;32mNone\u001b[0m\u001b[0;34m:\u001b[0m\u001b[0;34m\u001b[0m\u001b[0;34m\u001b[0m\u001b[0m\n\u001b[0;32m--> 990\u001b[0;31m             \u001b[0;32mraise\u001b[0m \u001b[0mTypeError\u001b[0m\u001b[0;34m(\u001b[0m\u001b[0;34m\"For implementing multiplication, provide the method '_mul_' for %s resp. %s\"\u001b[0m \u001b[0;34m%\u001b[0m \u001b[0;34m(\u001b[0m\u001b[0mself\u001b[0m\u001b[0;34m,\u001b[0m \u001b[0mx\u001b[0m\u001b[0;34m)\u001b[0m\u001b[0;34m)\u001b[0m\u001b[0;34m\u001b[0m\u001b[0;34m\u001b[0m\u001b[0m\n\u001b[0m\u001b[1;32m    991\u001b[0m         \u001b[0;32mif\u001b[0m \u001b[0mswitch\u001b[0m\u001b[0;34m:\u001b[0m\u001b[0;34m\u001b[0m\u001b[0;34m\u001b[0m\u001b[0m\n\u001b[1;32m    992\u001b[0m             \u001b[0;32mreturn\u001b[0m \u001b[0m_mul_\u001b[0m\u001b[0;34m(\u001b[0m\u001b[0mself\u001b[0m\u001b[0;34m,\u001b[0m \u001b[0mswitch_sides\u001b[0m\u001b[0;34m=\u001b[0m\u001b[0;32mTrue\u001b[0m\u001b[0;34m)\u001b[0m\u001b[0;34m\u001b[0m\u001b[0;34m\u001b[0m\u001b[0m\n",
      "\u001b[0;31mTypeError\u001b[0m: For implementing multiplication, provide the method '_mul_' for (0, 0, 0, 0) resp. [7, 4] Hamming Code over GF(2)"
     ]
    }
   ],
   "source": [
    "# All the possible messeges for the Hamming code [7,4,3] are 2^4 = 16\n",
    "# **Ask if there is another way to generate the vectorspace**\n",
    "\n",
    "VS = VectorSpace(GF(2), 4)\n",
    "Set= list(VS)\n",
    "# Set = VS.subspace([VS([0,0,0,0]), VS([0,0,0,1]), VS([0,0,1,0]), VS([0,1,0,0]), VS([1,0,0,0]), VS([0,0,1,1]), VS([0,1,1,0]), VS([1,1,0,0]),  VS([0,1,1,1]), VS([1,1,1,0]), VS([1,0,1,1]), VS([1,1,0,1]), VS([1,1,1,1]), VS([0,1,0,1]), VS([1,0,0,1]), VS([1,0,1,0])])\n",
    "# Set.list()\n",
    "G = codes.HammingCode(GF(2), 3)\n",
    "Codewords = [vector*G for vector in Set]\n",
    "Codewords   "
   ]
  },
  {
   "cell_type": "code",
   "execution_count": null,
   "metadata": {},
   "outputs": [],
   "source": [
    "a = vector((1,0,0))\n",
    "b = vector((0,-1,0))\n",
    "if a != b:\n",
    "    print(\"True\")"
   ]
  },
  {
   "cell_type": "code",
   "execution_count": null,
   "metadata": {},
   "outputs": [],
   "source": [
    "-Below is a method to calculate the generator matrix and the parity one"
   ]
  },
  {
   "cell_type": "code",
   "execution_count": 7,
   "metadata": {
    "scrolled": true
   },
   "outputs": [
    {
     "name": "stdout",
     "output_type": "stream",
     "text": [
      "[0 0 0 1 0 1 1]\n",
      "[1 1 0 1 0 0 1]\n",
      "[0 0 1 1 0 1 0]\n",
      "[1 1 0 0 1 0 1] \n",
      " 2 [1 0 0 1 1 1 0]\n",
      "[0 1 0 1 1 1 0]\n",
      "[0 0 1 1 1 0 1]\n"
     ]
    }
   ],
   "source": [
    "G = random_matrix(GF(2), 4, 7)\n",
    "H = G.right_kernel().matrix()\n",
    "print(G,\"\\n\",\"2\", H)"
   ]
  },
  {
   "cell_type": "code",
   "execution_count": 8,
   "metadata": {},
   "outputs": [
    {
     "data": {
      "text/plain": [
       "[1 1 0 0 0 1 0]\n",
       "[0 0 1 0 0 0 1]\n",
       "[0 0 0 1 0 1 1]\n",
       "[0 0 0 0 1 1 1]"
      ]
     },
     "execution_count": 8,
     "metadata": {},
     "output_type": "execute_result"
    }
   ],
   "source": [
    "H = H.transpose();\n",
    "G = H.left_kernel().matrix(); G"
   ]
  },
  {
   "cell_type": "markdown",
   "metadata": {},
   "source": [
    "- Below there are the first look and tries in sage math, aiming to get familiar, learn about simple implementations of matrices and vectors and generator matrices, parity check matrices\n",
    "\n",
    "///Notes for me GH^{T} = 0 can be computed by the .kernel().matrix(), always minding the transpose nature of the matrices///"
   ]
  },
  {
   "cell_type": "code",
   "execution_count": null,
   "metadata": {},
   "outputs": [],
   "source": [
    "# mx = MatrixSpace(GF(2), 2,6)\n",
    "# example = mx.matrix([1,2,3,4,5,6,7,8,9,0,11,15])\n",
    "# mx, example, example.base_ring()"
   ]
  },
  {
   "cell_type": "code",
   "execution_count": null,
   "metadata": {},
   "outputs": [],
   "source": [
    "# V = VectorSpace(GF(2), 6)\n",
    "# s = V.subspace([V([2,5,6,1,4,6])])\n",
    "# # s = V.subspace(rows)\n",
    "# A = random_matrix(GF(2), 6)\n",
    "# E = identity_matrix(6,6)\n",
    "# A ,E, s"
   ]
  },
  {
   "cell_type": "code",
   "execution_count": null,
   "metadata": {},
   "outputs": [],
   "source": [
    "# ech_form = rm.echelon_form(); ech_form\n",
    "# newrm = ech_form[[0,1,2,3], [4,5,6,7,8,9]]; newrm\n",
    "# trnsp = newrm.transpose(); trnsp\n",
    "# id6 = identity_matrix(6,6)\n",
    "# H = trnsp.augment(id6)\n",
    "# H = H.echelon_form(); H"
   ]
  },
  {
   "cell_type": "code",
   "execution_count": null,
   "metadata": {
    "scrolled": false
   },
   "outputs": [],
   "source": [
    "# G.redundancy_matrix()\n",
    "# G.parity_check_matrix()"
   ]
  }
 ],
 "metadata": {
  "kernelspec": {
   "display_name": "SageMath 9.3",
   "language": "sage",
   "name": "sagemath"
  },
  "language_info": {
   "codemirror_mode": {
    "name": "ipython",
    "version": 3
   },
   "file_extension": ".py",
   "mimetype": "text/x-python",
   "name": "python",
   "nbconvert_exporter": "python",
   "pygments_lexer": "ipython3",
   "version": "3.7.10"
  }
 },
 "nbformat": 4,
 "nbformat_minor": 4
}

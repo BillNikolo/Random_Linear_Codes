{
 "cells": [
  {
   "cell_type": "markdown",
   "metadata": {},
   "source": [
    "- Equation for the syndrome:\n",
    "    H*r^{T}= H*(c + e)^{T}= H*c^{T} + H*e^{T} = H*e^{T}\n",
    "\n",
    "- If the error vector has hw(e)<=1 then it's just a scalar multiple of column of the H. (in the binary matrix) Find the syndrome, notice which line represent of H and change that same position's digit in the transmited codeword."
   ]
  },
  {
   "cell_type": "code",
   "execution_count": 36,
   "metadata": {},
   "outputs": [],
   "source": [
    "import random\n",
    "import itertools\n",
    "from itertools import combinations\n",
    "\n",
    "# Notation for general codes is [n, k, d], where n is the length of the vector/word coming from the\n",
    "# subspace and k is the dimension.\n",
    "\n",
    "class Linear_Code_Implementation:\n",
    "    \n",
    "    def __init__(self, n, k, GF_prime):\n",
    "        self.n = n\n",
    "        self.k = k\n",
    "        self.prime = GF_prime\n",
    "        self.G = random_matrix(GF(self.prime), k, n)\n",
    "        code = LinearCode(self.G)\n",
    "        self.G = code.generator_matrix()\n",
    "#         self.H = code.parity_check_matrix()\n",
    "        self.H = self.G.right_kernel().matrix()\n",
    "        self.VS = VectorSpace(GF(self.prime), self.k)\n",
    "        self.message = self.VS([random.randint(0, self.prime - 1) for t in range(self.k)])\n",
    "        self.codeword = self.message * self.G\n",
    "        self.syndrome = (self.H * self.codeword.column()).column(0)\n",
    "#         print(self.n, self.k, self.prime, self.G, \"\\n\", \"\\n\", self.H, \"\\n\", \"\\n\", self.G.rref())\n",
    "#         print(self.message, \"\\n\", self.codeword, \"\\n\", self.syndrome)\n",
    "        print(\"Original Measage: \", self.message)\n",
    "        print(\"Codeword: \", self.codeword)\n",
    "        print(\"Syndrome: \", self.syndrome)\n",
    "\n",
    "\n",
    "    def simple_decode_method(self, codeword_prime):\n",
    "        new_syndrome = (self.H * codeword_prime.column()).column(0)\n",
    "        print(new_syndrome)\n",
    "        print(self.H)\n",
    "        list_pos = []\n",
    "        for _ in range(0, len(new_syndrome)):\n",
    "            if new_syndrome[_] > 0:\n",
    "                list_pos.append(_)\n",
    "        if len(list_pos) == 0:\n",
    "            print(\"Codeword: \", codeword_prime)\n",
    "            print(\"Syndrome: \", new_syndrome)\n",
    "            print(\"The received codeword is correct\")\n",
    "        else:\n",
    "            possible_codewords_list = []\n",
    "            flag = False\n",
    "            for _ in range(0, len(codeword_prime)):\n",
    "                try: \n",
    "                    scalar = new_syndrome/self.H.column(_)\n",
    "#                     if isinstance(new_syndrome/self.H.column(_),int)\n",
    "                except:\n",
    "                    continue\n",
    "                else:\n",
    "                    flag = True\n",
    "                    temp = codeword_prime\n",
    "                    temp[_] -= (scalar) \n",
    "                    possible_codewords_list.append(temp)\n",
    "            if flag == True:\n",
    "                print(\"The possible words are:\" ,possible_codewords_list )\n",
    "            else:\n",
    "                print(\"Failure to decode the codeword\")\n",
    "                \n",
    "            \n",
    "                    \n",
    "\n",
    "        \n",
    "# def linear_code_impl(n , k, GF_num ):\n",
    "#     G = random_matrix(GF(GF_num), k, n)\n",
    "#     VS = VectorSpace(GF(GF_num), k)\n",
    "#     random_message = VS([random.randint(0, 1) for t in range(k)])\n",
    "#     codeword = random_message * G\n",
    "#     H = G.right_kernel().matrix()\n",
    "#     print(\"Correct Codeword:\",codeword,\"\\n\",\"Parity matrix:\",\"\\n\", H)\n",
    "#     error_pos = random.randint(0, n - 1)\n",
    "#     codeword[error_pos] += 1      \n",
    "#     print(\"Codeword with Error:\", codeword)\n",
    "#     syndrome = (H * codeword.column()).column(0)\n",
    "#     if 1 not in syndrome:\n",
    "#         print(\"Syndrome:\", syndrome)\n",
    "#     else:\n",
    "#         possition = - 1\n",
    "#         for i in range(n):\n",
    "#             if syndrome == H.column(i):\n",
    "#                 possition = i\n",
    "#         if codeword[possition] == 0:\n",
    "#             codeword[possition] = 1\n",
    "#         else:\n",
    "#            codeword[possition] = 0 \n",
    "#         print(\"Error:\", (error_pos + 1),\"\\n\", \"Syndrome:\", syndrome, \"Corrected Codeword:\", codeword)\n",
    "\n",
    "# linear_code_impl(12, 8, 17)"
   ]
  },
  {
   "cell_type": "code",
   "execution_count": 38,
   "metadata": {},
   "outputs": [
    {
     "name": "stdout",
     "output_type": "stream",
     "text": [
      "Original Measage:  (1, 0, 0, 0)\n",
      "Codeword:  (1, 1, 1, 1, 1, 0, 1, 1)\n",
      "Syndrome:  (0, 0, 0, 0)\n"
     ]
    }
   ],
   "source": [
    "eco = Linear_Code_Implementation(8, 4, 2)"
   ]
  },
  {
   "cell_type": "code",
   "execution_count": 43,
   "metadata": {},
   "outputs": [
    {
     "name": "stdout",
     "output_type": "stream",
     "text": [
      "(0, 0, 0, 0)\n",
      "[0 0 1 0 0 0 1 0]\n",
      "[0 0 0 1 0 0 0 1]\n",
      "[0 0 0 0 1 0 0 1]\n",
      "[0 0 0 0 0 1 0 0]\n",
      "Codeword:  (1, 0, 1, 1, 1, 0, 1, 1)\n",
      "Syndrome:  (0, 0, 0, 0)\n",
      "The received codeword is correct\n"
     ]
    }
   ],
   "source": [
    "VS = VectorSpace(GF(2), 8)\n",
    "codeword_prime = VS([1, 0, 1, 1, 1, 0, 1, 1])\n",
    "eco.simple_decode_method(codeword_prime) "
   ]
  },
  {
   "cell_type": "code",
   "execution_count": null,
   "metadata": {},
   "outputs": [],
   "source": [
    "# All the possible messeges for the Hamming code [7,4,3] are 2^4 = 16\n",
    "# **Ask if there is another way to generate the vectorspace**\n",
    "\n",
    "VS = VectorSpace(GF(2), 4)\n",
    "Set= list(VS)\n",
    "# Set = VS.subspace([VS([0,0,0,0]), VS([0,0,0,1]), VS([0,0,1,0]), VS([0,1,0,0]), VS([1,0,0,0]), VS([0,0,1,1]), VS([0,1,1,0]), VS([1,1,0,0]),  VS([0,1,1,1]), VS([1,1,1,0]), VS([1,0,1,1]), VS([1,1,0,1]), VS([1,1,1,1]), VS([0,1,0,1]), VS([1,0,0,1]), VS([1,0,1,0])])\n",
    "# Set.list()\n",
    "G = codes.HammingCode(GF(2), 3)\n",
    "Codewords = [vector*G for vector in Set]\n",
    "Codewords   "
   ]
  },
  {
   "cell_type": "code",
   "execution_count": null,
   "metadata": {},
   "outputs": [],
   "source": [
    "a = vector((1,0,0))\n",
    "b = vector((0,-1,0))\n",
    "if a != b:\n",
    "    print(\"True\")"
   ]
  },
  {
   "cell_type": "markdown",
   "metadata": {},
   "source": [
    "-Below is a method to calculate the generator matrix and the parity one"
   ]
  },
  {
   "cell_type": "code",
   "execution_count": null,
   "metadata": {
    "scrolled": true
   },
   "outputs": [],
   "source": [
    "G = random_matrix(GF(2), 4, 7)\n",
    "H = G.right_kernel().matrix()\n",
    "print(G,\"\\n\",\"2\", H)"
   ]
  },
  {
   "cell_type": "code",
   "execution_count": null,
   "metadata": {},
   "outputs": [],
   "source": [
    "H = H.transpose();\n",
    "G = H.left_kernel().matrix(); G"
   ]
  },
  {
   "cell_type": "markdown",
   "metadata": {},
   "source": [
    "- Below there are the first look and tries in sage math, aiming to get familiar, learn about simple implementations of matrices and vectors and generator matrices, parity check matrices\n",
    "\n",
    "///Notes for me GH^{T} = 0 can be computed by the .kernel().matrix(), always minding the transpose nature of the matrices///"
   ]
  },
  {
   "cell_type": "code",
   "execution_count": null,
   "metadata": {},
   "outputs": [],
   "source": [
    "# mx = MatrixSpace(GF(2), 2,6)\n",
    "# example = mx.matrix([1,2,3,4,5,6,7,8,9,0,11,15])\n",
    "# mx, example, example.base_ring()"
   ]
  },
  {
   "cell_type": "code",
   "execution_count": null,
   "metadata": {},
   "outputs": [],
   "source": [
    "# V = VectorSpace(GF(2), 6)\n",
    "# s = V.subspace([V([2,5,6,1,4,6])])\n",
    "# # s = V.subspace(rows)\n",
    "# A = random_matrix(GF(2), 6)\n",
    "# E = identity_matrix(6,6)\n",
    "# A ,E, s"
   ]
  },
  {
   "cell_type": "code",
   "execution_count": null,
   "metadata": {},
   "outputs": [],
   "source": [
    "# ech_form = rm.echelon_form(); ech_form\n",
    "# newrm = ech_form[[0,1,2,3], [4,5,6,7,8,9]]; newrm\n",
    "# trnsp = newrm.transpose(); trnsp\n",
    "# id6 = identity_matrix(6,6)\n",
    "# H = trnsp.augment(id6)\n",
    "# H = H.echelon_form(); H"
   ]
  },
  {
   "cell_type": "code",
   "execution_count": null,
   "metadata": {
    "scrolled": false
   },
   "outputs": [],
   "source": [
    "# G.redundancy_matrix()\n",
    "# G.parity_check_matrix()"
   ]
  }
 ],
 "metadata": {
  "kernelspec": {
   "display_name": "SageMath 9.3",
   "language": "sage",
   "name": "sagemath"
  },
  "language_info": {
   "codemirror_mode": {
    "name": "ipython",
    "version": 3
   },
   "file_extension": ".py",
   "mimetype": "text/x-python",
   "name": "python",
   "nbconvert_exporter": "python",
   "pygments_lexer": "ipython3",
   "version": "3.7.10"
  }
 },
 "nbformat": 4,
 "nbformat_minor": 4
}
